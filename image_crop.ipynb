{
 "cells": [
  {
   "cell_type": "code",
   "execution_count": 1,
   "id": "03590d8f-eb39-492e-b7ea-5c6e4a7d2cb7",
   "metadata": {
    "tags": []
   },
   "outputs": [
    {
     "data": {
      "text/plain": [
       "1344"
      ]
     },
     "execution_count": 1,
     "metadata": {},
     "output_type": "execute_result"
    }
   ],
   "source": [
    "import os, glob\n",
    "image = []\n",
    "shape = []\n",
    "os.chdir('/Users/abhinavsingh/Desktop/img_data/kyc vs any/kyc/')\n",
    "for img in glob.glob('*'):\n",
    "    image.append(img)\n",
    "len(image)"
   ]
  },
  {
   "cell_type": "code",
   "execution_count": 2,
   "id": "4e030186-6d93-47af-9eac-6142a7153e5c",
   "metadata": {
    "tags": []
   },
   "outputs": [
    {
     "name": "stdout",
     "output_type": "stream",
     "text": [
      "S20210730010615232258016.jpg\n"
     ]
    }
   ],
   "source": [
    "for i in image:\n",
    "    print(i)\n",
    "    break"
   ]
  },
  {
   "cell_type": "code",
   "execution_count": 3,
   "id": "d14b9dcf-571a-4497-bd12-49b5c9737d2f",
   "metadata": {
    "tags": []
   },
   "outputs": [],
   "source": [
    "import cv2\n",
    "for i in image:\n",
    "    k= cv2.imread('/Users/abhinavsingh/Desktop/img_data/kyc vs any/kyc/'+str(i)).shape\n",
    "    shape.append(k)\n",
    "len(shape)"
   ]
  },
  {
   "cell_type": "code",
   "execution_count": 4,
   "id": "a73d6afb-0bf8-4e9e-85ee-eaebe862fbd5",
   "metadata": {},
   "outputs": [
    {
     "name": "stdout",
     "output_type": "stream",
     "text": [
      "(2350, 1650, 3)\n"
     ]
    }
   ],
   "source": [
    "for k in shape:\n",
    "    print(k)\n",
    "    break "
   ]
  },
  {
   "cell_type": "code",
   "execution_count": 5,
   "id": "b97590b5-555f-4306-86fc-960682eeaf12",
   "metadata": {
    "tags": []
   },
   "outputs": [],
   "source": [
    "from PIL import Image\n",
    "def crop(image_path, coords, saved_location):\n",
    "    image_obj = Image.open(\"/Users/abhinavsingh/Desktop/img_data/kyc vs any/kyc/S20210908234400577590027.jpg\")\n",
    "    cropped_image = image_obj.crop(coords)\n",
    "    cropped_image.save(saved_location)\n",
    "    cropped_image.show()\n",
    "\n",
    "\n",
    "if __name__ == '__main__':\n",
    "    image = \"image.jpg\"\n",
    "    crop(image, (0, 400, 2048,2048), 'crop.jpg')"
   ]
  }
 ],
 "metadata": {
  "kernelspec": {
   "display_name": "Python 3 (ipykernel)",
   "language": "python",
   "name": "python3"
  },
  "language_info": {
   "codemirror_mode": {
    "name": "ipython",
    "version": 3
   },
   "file_extension": ".py",
   "mimetype": "text/x-python",
   "name": "python",
   "nbconvert_exporter": "python",
   "pygments_lexer": "ipython3",
   "version": "3.8.12"
  }
 },
 "nbformat": 4,
 "nbformat_minor": 5
}
