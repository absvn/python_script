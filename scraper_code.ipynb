{
 "cells": [
  {
   "cell_type": "code",
   "execution_count": null,
   "id": "38633ac1-0b03-4d99-9691-b625056936f3",
   "metadata": {},
   "outputs": [],
   "source": [
    "import requests\n",
    "from bs4 import BeautifulSoup\n",
    "import mysql.connector\n",
    "mydb = mysql.connector.connect(\n",
    "  host=\"127.0.0.1\",\n",
    "  user=\"root\",\n",
    "  password=\"qwertyuiop\",\n",
    "  database=\"pcscodesdb\"\n",
    ")\n",
    "mycursor = mydb.cursor()\n",
    "keylist = ['0','1','2','3','4','5','6','7','8','9','A','B',\n",
    "           'C','D','E','F','G','H','I','J','K','L','M','N',\n",
    "           'O','P','Q','R','S','T','U','V','W','X','Y','Z']\n",
    "for i in keylist:\n",
    "    for j in keylist:\n",
    "        for k in keylist:\n",
    "            for l in keylist:\n",
    "                split_value = str(i+j+k)\n",
    "                print(split_value)\n",
    "                URL = f\"https://www.icd10data.com/ICD10PCS/Codes/{i}/{j}/{k}/{l}\"\n",
    "                page = requests.get(URL)\n",
    "                if page.status_code==200:\n",
    "                    print(URL)\n",
    "                    soup = BeautifulSoup(page.content, \"html.parser\")\n",
    "                    myele = soup.find_all(\"li\", attrs={\"class\": \"codeLine\"})\n",
    "                    data_text=myele[0].text\n",
    "                    data1=data_text.split(split_value)\n",
    "                    for data in data1:\n",
    "                        code  = split_value+data.strip().split(' ')[0]\n",
    "                        code_desc = data.replace(data.split(' ')[0],'').strip()\n",
    "                        if code_desc == \"\":\n",
    "                            continue\n",
    "                        if len(code) == 4:\n",
    "                            sql = \"INSERT INTO pcs4code (code, code_desc) VALUES (%s, %s)\"\n",
    "                            val = (code, code_desc)\n",
    "                            mycursor.execute(sql, val)\n",
    "                        elif len(code) == 5:\n",
    "                            sql = \"INSERT INTO pcs5code (code, code_desc) VALUES (%s, %s)\"\n",
    "                            val = (code, code_desc)\n",
    "                            mycursor.execute(sql, val)\n",
    "                        elif len(code) == 6:\n",
    "                            sql = \"INSERT INTO pcs6code (code, code_desc) VALUES (%s, %s)\"\n",
    "                            val = (code, code_desc)\n",
    "                            mycursor.execute(sql, val)\n",
    "                        mydb.commit()"
   ]
  }
 ],
 "metadata": {
  "kernelspec": {
   "display_name": "Python 3 (ipykernel)",
   "language": "python",
   "name": "python3"
  },
  "language_info": {
   "codemirror_mode": {
    "name": "ipython",
    "version": 3
   },
   "file_extension": ".py",
   "mimetype": "text/x-python",
   "name": "python",
   "nbconvert_exporter": "python",
   "pygments_lexer": "ipython3",
   "version": "3.8.12"
  }
 },
 "nbformat": 4,
 "nbformat_minor": 5
}
