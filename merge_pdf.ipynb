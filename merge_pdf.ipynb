{
 "cells": [
  {
   "cell_type": "code",
   "execution_count": 1,
   "id": "e111efa6-36b1-4185-b458-d95fa452adde",
   "metadata": {},
   "outputs": [],
   "source": [
    "import glob, os\n",
    "folder = []\n",
    "os.chdir(\"/Users/abhinavsingh/Desktop/tataaig_ipa/\")\n",
    "for file in glob.glob('*'):\n",
    "    folder.append(file) "
   ]
  },
  {
   "cell_type": "code",
   "execution_count": 2,
   "id": "086cd21a-2e93-4923-8bc7-6b4a375fdd8c",
   "metadata": {},
   "outputs": [
    {
     "data": {
      "text/plain": [
       "['Yashoda Hospital Somajiguda',\n",
       " 'Fortis Hospital, Mohali',\n",
       " 'Yashoda Hospital & Research Centre Limited',\n",
       " 'Sri Shankara Cancer Hospital and Research Centre',\n",
       " 'W Hospital by Pratiksha',\n",
       " 'Yashoda Hospital Malakpet',\n",
       " 'Holy Family Hospital New Delhi',\n",
       " 'Jupiter Hospital',\n",
       " 'Fortis Hospitals Ltd Bannerghatta Road',\n",
       " 'Zenith Super Specialist Hospital',\n",
       " 'Jehangir Hospital & Medical Centre',\n",
       " 'St. Johns Medical College Hospital',\n",
       " 'Yashoda Hosptal & Research Centre Ltd',\n",
       " 'Woodlands Multispeciality Hospital Limited',\n",
       " 'Sri Balaji Action Medical Institute',\n",
       " 'Jaipur Golden Hospital',\n",
       " 'Sir Ganga Ram Hospital',\n",
       " 'Indraprastha Apollo Hospital',\n",
       " 'Jupiter Lifeline Hospital Ltd']"
      ]
     },
     "execution_count": 2,
     "metadata": {},
     "output_type": "execute_result"
    }
   ],
   "source": [
    "folder"
   ]
  },
  {
   "cell_type": "code",
   "execution_count": 3,
   "id": "517d9191-3251-4f4e-815f-681535603928",
   "metadata": {},
   "outputs": [
    {
     "data": {
      "text/plain": [
       "10"
      ]
     },
     "execution_count": 3,
     "metadata": {},
     "output_type": "execute_result"
    }
   ],
   "source": [
    "z = 'Fortis Hospital, Mohali'\n",
    "in_folder = []\n",
    "os.chdir('/Users/abhinavsingh/Desktop/tataaig_ipa/'+str(z)+'/')\n",
    "for i in glob.glob('*'):\n",
    "     in_folder.append(i)\n",
    "len(in_folder)"
   ]
  },
  {
   "cell_type": "code",
   "execution_count": 4,
   "id": "881cd16c-f272-493a-a3b5-b3d1ff163ed9",
   "metadata": {},
   "outputs": [
    {
     "name": "stdout",
     "output_type": "stream",
     "text": [
      "['2021031000181', '2021012500074', '2021032000144', '2021021000198', '2021031900205', '2021042000037', '2021020100077', '2021031700066', '2021012300157', '2021012900036']\n"
     ]
    }
   ],
   "source": [
    "print(in_folder)"
   ]
  },
  {
   "cell_type": "code",
   "execution_count": 5,
   "id": "f59db1d4-7994-47fa-b444-28733c9ad9df",
   "metadata": {},
   "outputs": [],
   "source": [
    "from PyPDF2 import PdfFileMerger, PdfFileWriter, PdfFileReader\n",
    "\n",
    "for k in in_folder:\n",
    "    pdf_dir = '/Users/abhinavsingh/Desktop/tataaig_ipa/'+str(z)+'/'+str(k)+'/'\n",
    "    os.chdir(pdf_dir)\n",
    "    \n",
    "    pages = []\n",
    "    for pdf in glob.glob(os.path.join(pdf_dir, \"*.pdf\")):\n",
    "        pages.append(pdf)\n",
    "    \n",
    "    merger = PdfFileMerger(strict=False)\n",
    "    \n",
    "    for g in pages:\n",
    "        merger.append(g)\n",
    "\n",
    "    merger.write('/Users/abhinavsingh/Desktop/tataaig_ipa/'+str(z)+'/'+str(k)+'.pdf')\n",
    "    merger.close()"
   ]
  }
 ],
 "metadata": {
  "kernelspec": {
   "display_name": "Python 3 (ipykernel)",
   "language": "python",
   "name": "python3"
  },
  "language_info": {
   "codemirror_mode": {
    "name": "ipython",
    "version": 3
   },
   "file_extension": ".py",
   "mimetype": "text/x-python",
   "name": "python",
   "nbconvert_exporter": "python",
   "pygments_lexer": "ipython3",
   "version": "3.8.12"
  }
 },
 "nbformat": 4,
 "nbformat_minor": 5
}
